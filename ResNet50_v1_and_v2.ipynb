{
 "cells": [
  {
   "cell_type": "markdown",
   "metadata": {},
   "source": [
    "- __ResNet50 is a well-known model, which is commonly reused as a stock model, such as for `transfer learning`, as shared layers in object detection, and for performance benchmarking. The model has three versions: v1, v1.5 and v2.__\n",
    "- __RestNet50 v1 formalized the concept of a `convolutional group`. This is a set of convolutional blocks that share a common configuration, such as the number of filters. In `v1`, the neural network is decomposed into groups, and each group doubles the number of filters from the prevoius group.__"
   ]
  },
  {
   "cell_type": "markdown",
   "metadata": {},
   "source": [
    "**The following is an implementation of ResNet50 v1 using the bottleneck block combined with `batch normalization`**"
   ]
  },
  {
   "cell_type": "code",
   "execution_count": 7,
   "metadata": {},
   "outputs": [],
   "source": [
    "from tensorflow.keras import Model\n",
    "import tensorflow.keras.layers as layers"
   ]
  },
  {
   "cell_type": "code",
   "execution_count": 11,
   "metadata": {},
   "outputs": [],
   "source": [
    "def identity_block(n_filters, x):\n",
    "    \"\"\" Create a Bottleneck Residual Block of Convolutions\n",
    "        n_filters: number of filters.\n",
    "        x: input to the block.\n",
    "    \"\"\"\n",
    "    shortcut = x\n",
    "    x = layers.Conv2D(n_filters, (1,1), strides=(1,1))(x)\n",
    "    x = layers.BatchNormalization()(x)\n",
    "    x = layers.ReLU()(x)\n",
    "    \n",
    "    x = layers.Conv2D(n_filters, (3,3), strides=(1,1), padding='same')(x)\n",
    "    x = layers.BatchNormalization()(x)\n",
    "    x = layers.ReLU()(x)\n",
    "    \n",
    "    x = layers.Conv2D(n_filters*4, (1,1), strides=(1,1))(x)\n",
    "    x = layers.BatchNormalization()(x)\n",
    "    \n",
    "    x = layers.add([shortcut, x])\n",
    "    x = layers.ReLU()(x)\n",
    "    \n",
    "    return x"
   ]
  },
  {
   "cell_type": "code",
   "execution_count": 12,
   "metadata": {},
   "outputs": [],
   "source": [
    "def projection_block(x, n_filters, strides=(2,2)):\n",
    "    \"\"\" Create Block of Convolutions with feature pooling\n",
    "        Increase the number of filters by 4X.\n",
    "        \n",
    "        x: input into the block\n",
    "        n_filters: number of the filters\n",
    "    \"\"\"\n",
    "    # 1x1 projection convolution on shortcut to match size of output\n",
    "    shortcut = layers.Conv2D(4*n_filters, (1,1), strides=(strides))(x)\n",
    "    shortcut = layers.BatchNormalization()(shortcut)\n",
    "    \n",
    "    x = layers.Conv2D(n_filters, (1,1), strides=strides)(x)\n",
    "    x = layers.BatchNormalization()(x)\n",
    "    x = layers.ReLU()(x)\n",
    "    \n",
    "    x = layers.Conv2D(n_filters, (3,3), strides=(1,1), padding='same')(x)\n",
    "    x = layers.BatchNormalization()(x)\n",
    "    x = layers.ReLU()(x)\n",
    "    \n",
    "    x = layers.Conv2D(4*n_filters, (1,1), strides=(1,1))(x)\n",
    "    x = layers.BatchNormalization()(x)\n",
    "    \n",
    "    x = layers.add([x, shortcut])\n",
    "    x = layers.ReLU()(x)\n",
    "    \n",
    "    return x"
   ]
  },
  {
   "cell_type": "code",
   "execution_count": 13,
   "metadata": {},
   "outputs": [],
   "source": [
    "inputs = layers.Input(shape=(224, 224, 3))\n",
    "\n",
    "x = layers.ZeroPadding2D(padding=(3,3))(inputs)\n",
    "x = layers.Conv2D(64, kernel_size=(7,7), strides=(2,2), padding='valid')(x)\n",
    "x = layers.BatchNormalization()(x)\n",
    "x = layers.ReLU()(x)\n",
    "x = layers.ZeroPadding2D(padding=(1,1))(x)\n",
    "x = layers.MaxPool2D(pool_size=(3,3), strides=(2,2))(x)\n",
    "\n",
    "# Each convolution group after the first group starts with a projection block.\n",
    "x = projection_block(x, 64, strides=(1,1))\n",
    "for _ in range(2):\n",
    "    x = identity_block(64, x)\n",
    "    \n",
    "x = projection_block(x, 128)\n",
    "for _ in range(3):\n",
    "    x = identity_block(128, x)\n",
    "    \n",
    "x = projection_block(x, 256)\n",
    "for _ in range(5):\n",
    "    x = identity_block(256, x)\n",
    "    \n",
    "x = projection_block(x, 512)\n",
    "for _ in range(2):\n",
    "    x = identity_block(512, x)\n",
    "    \n",
    "x = layers.GlobalAveragePooling2D()(x)\n",
    "\n",
    "outputs = layers.Dense(1000, activation='softmax')(x)\n",
    "model = Model(inputs, outputs)"
   ]
  },
  {
   "cell_type": "markdown",
   "metadata": {},
   "source": [
    "______________________________________________________________________________________________________________\n",
    "______________________________________________________________________________________________________________"
   ]
  },
  {
   "cell_type": "markdown",
   "metadata": {},
   "source": [
    "**The following is an implementation of ResNet50 v1 residual block with a `projection link`**"
   ]
  },
  {
   "cell_type": "code",
   "execution_count": 14,
   "metadata": {},
   "outputs": [],
   "source": [
    "def projection_block(x, n_filters, strides=(2,2)):\n",
    "    \"\"\" Create Block of Convolution with feature pooling\n",
    "        Increase the number of filters by 4X.\n",
    "        \n",
    "        x: input into the block\n",
    "        n_filters: number of filters\n",
    "    \"\"\"\n",
    "    shortcut = layers.Conv2D(4*n_filters, (1,1), strides=(strides))(x)\n",
    "    shortcut = layers.BatchNormalization()(shortcut)\n",
    "    \n",
    "    x = layers.Conv2D(n_filters, (1,1), strides=(1,1))(x)\n",
    "    x = layers.BatchNormalization()(x)\n",
    "    x = layers.ReLU()(x)\n",
    "    \n",
    "    # Bottleneck is moved to 3x3 convolution using a stride of 2\n",
    "    x = layers.Conv2D(n_filters, (3,3), strides=(2,2), padding='same')(x)\n",
    "    x = layers.BatchNormalization()(x)\n",
    "    x = layers.ReLU()(x)\n",
    "    \n",
    "    x = layers.Conv2D(4*n_filters, (1,1), strides=(1,1))(x)\n",
    "    x = layers.BatchNormalization()(x)\n",
    "    \n",
    "    x = layers.add([x, shortcut])\n",
    "    x = layers.ReLU()(x)\n",
    "    \n",
    "    return x"
   ]
  },
  {
   "cell_type": "markdown",
   "metadata": {},
   "source": [
    "______________________________________________________________________________________________________________\n",
    "______________________________________________________________________________________________________________"
   ]
  },
  {
   "cell_type": "markdown",
   "metadata": {},
   "source": [
    "__ResNet50 v2 introduced `preactivation batch normalization` in which the batch normalization and activation functions are placed before (instead of after) the corresponding convolution or dense layer. This has now become a common practice, as depicted here for implementation of the residual block with the `identity link` in `v2`:__"
   ]
  },
  {
   "cell_type": "code",
   "execution_count": 15,
   "metadata": {},
   "outputs": [],
   "source": [
    "def identity_block(x, n_filters):\n",
    "    \"\"\" Create a Bottleneck Residual Block of Convolutions.\n",
    "    \n",
    "        n_filters: number of filters.\n",
    "        x: input into the block.\n",
    "    \"\"\"\n",
    "    shortcut = x\n",
    "    x = layers.BatchNormalization()(x)\n",
    "    x = layers.ReLU()(x)\n",
    "    x = layers.Conv2D(n_filters, (1,1), strides=(1,1))(x)\n",
    "    \n",
    "    x = layers.BatchNormalization()(x)\n",
    "    x = layers.ReLU()(x)\n",
    "    x = layers.Conv2D(n_filters, (3,3), strides=(1,1), padding='same')(x)\n",
    "    \n",
    "    x = layers.BatchNormalization()(x)\n",
    "    x = layers.ReLU()(x)\n",
    "    x = layers.Conv2D(n_filters*4, (1,1), strides=(1,1))(x)\n",
    "    \n",
    "    x = layers.add([shortcut, x])\n",
    "    \n",
    "    return x"
   ]
  },
  {
   "cell_type": "code",
   "execution_count": null,
   "metadata": {},
   "outputs": [],
   "source": []
  }
 ],
 "metadata": {
  "kernelspec": {
   "display_name": "Python 3",
   "language": "python",
   "name": "python3"
  },
  "language_info": {
   "codemirror_mode": {
    "name": "ipython",
    "version": 3
   },
   "file_extension": ".py",
   "mimetype": "text/x-python",
   "name": "python",
   "nbconvert_exporter": "python",
   "pygments_lexer": "ipython3",
   "version": "3.8.5"
  }
 },
 "nbformat": 4,
 "nbformat_minor": 4
}
